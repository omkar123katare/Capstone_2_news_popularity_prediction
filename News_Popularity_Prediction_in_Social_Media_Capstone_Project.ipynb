{
  "nbformat": 4,
  "nbformat_minor": 0,
  "metadata": {
    "kernelspec": {
      "display_name": "Python 3",
      "language": "python",
      "name": "python3"
    },
    "language_info": {
      "codemirror_mode": {
        "name": "ipython",
        "version": 3
      },
      "file_extension": ".py",
      "mimetype": "text/x-python",
      "name": "python",
      "nbconvert_exporter": "python",
      "pygments_lexer": "ipython3",
      "version": "3.6.6"
    },
    "colab": {
      "name": "News Popularity Prediction in Social Media - Capstone Project.ipynb",
      "provenance": [],
      "collapsed_sections": [],
      "include_colab_link": true
    }
  },
  "cells": [
    {
      "cell_type": "markdown",
      "metadata": {
        "id": "view-in-github",
        "colab_type": "text"
      },
      "source": [
        "<a href=\"https://colab.research.google.com/github/omkar123katare/Capstone_2_news_popularity_prediction/blob/main/News_Popularity_Prediction_in_Social_Media_Capstone_Project.ipynb\" target=\"_parent\"><img src=\"https://colab.research.google.com/assets/colab-badge.svg\" alt=\"Open In Colab\"/></a>"
      ]
    },
    {
      "cell_type": "markdown",
      "metadata": {
        "id": "tOGC-qoyhJeX"
      },
      "source": [
        "# <b><u> Project Title : Predicting the news popularity in multiple social media platforms. </u></b>"
      ]
    },
    {
      "cell_type": "markdown",
      "metadata": {
        "id": "Y06xIdG26kRF"
      },
      "source": [
        "## <b> Problem Description </b>\n",
        "\n",
        "### This is a large data set of news items and their respective social feedback on multiple platforms: Facebook, Google+ and LinkedIn.The collected data relates to a period of 8 months, between November 2015 and July 2016, accounting for about 100,000 news items on four different topics: Economy, Microsoft, Obama and Palestine.\n"
      ]
    },
    {
      "cell_type": "markdown",
      "metadata": {
        "id": "AlLxAtlziMbP"
      },
      "source": [
        "## <b> Data Description </b>\n",
        "\n",
        "### <b>Attribute Information: </b>\n",
        "\n",
        "* ### IDLink (numeric): Unique identifier of news items\n",
        "* ### Title (string): Title of the news item according to the official media sources\n",
        "* ### Headline (string): Headline of the news item according to the official media sources\n",
        "* ### Source (string): Original news outlet that published the news item\n",
        "* ### Topic (string): Query topic used to obtain the items in the official media sources\n",
        "* ### PublishDate (timestamp): Date and time of the news items' publication\n",
        "* ### SentimentTitle (numeric): Sentiment score of the text in the news items' title\n",
        "* ### SentimentHeadline (numeric): Sentiment score of the text in the news items' headline\n",
        "* ### Facebook (numeric): Final value of the news items' popularity according to the social media source Facebook\n",
        "* ### GooglePlus (numeric): Final value of the news items' popularity according to the social media source Google+\n",
        "* ### LinkedIn (numeric): Final value of the news items' popularity according to the social media source LinkedIn\n",
        "\n",
        "\n",
        "### VARIABLES OF SOCIAL FEEDBACK DATA\n",
        "\n",
        "* ### IDLink (numeric): Unique identifier of news items\n",
        "* ### TS1 (numeric): Level of popularity in time slice 1 (0-20 minutes upon publication)\n",
        "* ### TS2 (numeric): Level of popularity in time slice 2 (20-40 minutes upon publication)\n",
        "* ### TS... (numeric): Level of popularity in time slice ...\n",
        "* ### TS144 (numeric): Final level of popularity after 2 days upon publication"
      ]
    },
    {
      "cell_type": "code",
      "metadata": {
        "id": "dByMsuzT8Tnw"
      },
      "source": [
        ""
      ],
      "execution_count": null,
      "outputs": []
    }
  ]
}